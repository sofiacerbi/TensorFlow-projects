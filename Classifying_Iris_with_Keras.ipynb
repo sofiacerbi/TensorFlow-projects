{
  "nbformat": 4,
  "nbformat_minor": 0,
  "metadata": {
    "kernelspec": {
      "display_name": "Python 3",
      "language": "python",
      "name": "python3"
    },
    "language_info": {
      "codemirror_mode": {
        "name": "ipython",
        "version": 3
      },
      "file_extension": ".py",
      "mimetype": "text/x-python",
      "name": "python",
      "nbconvert_exporter": "python",
      "pygments_lexer": "ipython3",
      "version": "3.9.1"
    },
    "colab": {
      "name": "keras_iris.ipynb",
      "provenance": []
    },
    "accelerator": "GPU"
  },
  "cells": [
    {
      "cell_type": "markdown",
      "metadata": {
        "id": "lhIfWA30kS7k"
      },
      "source": [
        "# Classifying Iris with Keras\n",
        "\n",
        "Original code by Nikolai Janakiev: \n",
        "\n",
        "https://janakiev.com/notebooks/keras-iris/\n",
        "\n",
        "This examples uses Keras and TensorFlow to classify the same Iris dataset as the previous example (where scikit learn was used).\n",
        "\n",
        "## Tasks\n",
        "\n",
        "1. Try to modify this network to behave similarly to a logistic regressor\n",
        "2. Add additional layers, and try out several activation functions, number of units per layer, etc.\n",
        "3. Try to show not only the learing curves for the validation sets, but also for the training set."
      ]
    },
    {
      "cell_type": "markdown",
      "metadata": {
        "id": "SUXdzWprkS7q"
      },
      "source": [
        "### Imports"
      ]
    },
    {
      "cell_type": "code",
      "metadata": {
        "id": "y8ogAlKUkS7r"
      },
      "source": [
        "import tensorflow as tf\n",
        "physical_devices = tf.config.list_physical_devices('GPU') \n",
        "tf.config.experimental.set_memory_growth(physical_devices[0], True)\n",
        "\n",
        "import numpy as np\n",
        "import matplotlib.pyplot as plt\n",
        "\n",
        "from sklearn.datasets import load_iris\n",
        "from sklearn.model_selection import train_test_split\n",
        "from sklearn.preprocessing import OneHotEncoder, StandardScaler\n",
        "\n",
        "# In order to ignore FutureWarning\n",
        "import warnings\n",
        "warnings.simplefilter(action='ignore', category=FutureWarning)\n",
        "\n",
        "from keras.models import Sequential\n",
        "from keras.layers import Dense\n",
        "from keras.callbacks import TensorBoard"
      ],
      "execution_count": null,
      "outputs": []
    },
    {
      "cell_type": "markdown",
      "metadata": {
        "id": "JYS8hNb2kS7s"
      },
      "source": [
        "### Data preparation"
      ]
    },
    {
      "cell_type": "code",
      "metadata": {
        "id": "18b-OlqkkS7s"
      },
      "source": [
        "iris = load_iris()\n",
        "X = iris['data']\n",
        "y = iris['target']\n",
        "names = iris['target_names']\n",
        "feature_names = iris['feature_names']"
      ],
      "execution_count": null,
      "outputs": []
    },
    {
      "cell_type": "markdown",
      "metadata": {
        "id": "vlEyZgvFkS7s"
      },
      "source": [
        "The imported classes are stored as integers, but we need them in one hot encoding:"
      ]
    },
    {
      "cell_type": "code",
      "metadata": {
        "id": "qKIxAqbXkS7t"
      },
      "source": [
        "enc = OneHotEncoder()\n",
        "Y = enc.fit_transform(y[:, np.newaxis]).toarray()"
      ],
      "execution_count": null,
      "outputs": []
    },
    {
      "cell_type": "markdown",
      "metadata": {
        "id": "qsiP6NCikS7t"
      },
      "source": [
        "**<font color='red'>Warning:</font>** Please never forget to normalize your data, or training will be slow or even divergent.\n",
        "\n",
        "Here we normalize for mean 0 and std deviation 1:"
      ]
    },
    {
      "cell_type": "code",
      "metadata": {
        "id": "sisWmOnlkS7t"
      },
      "source": [
        "scaler = StandardScaler()\n",
        "X_scaled = scaler.fit_transform(X)"
      ],
      "execution_count": null,
      "outputs": []
    },
    {
      "cell_type": "markdown",
      "metadata": {
        "id": "SzDMnrpqkS7t"
      },
      "source": [
        "\n",
        "Split the data set into training and testing:"
      ]
    },
    {
      "cell_type": "code",
      "metadata": {
        "id": "cSl16Be1kS7u"
      },
      "source": [
        "X_train, X_test, Y_train, Y_test = train_test_split(X_scaled, Y, test_size=0.5, random_state=2)"
      ],
      "execution_count": null,
      "outputs": []
    },
    {
      "cell_type": "markdown",
      "metadata": {
        "id": "LHT-BmKekS7u"
      },
      "source": [
        "\n",
        "Number of features and number of classes:"
      ]
    },
    {
      "cell_type": "code",
      "metadata": {
        "id": "YIgkErywkS7u"
      },
      "source": [
        "n_features = X.shape[1]\n",
        "n_classes = Y.shape[1]"
      ],
      "execution_count": null,
      "outputs": []
    },
    {
      "cell_type": "markdown",
      "metadata": {
        "id": "ORB2pbonkS7u"
      },
      "source": [
        "### Visualize the data set\n",
        "\n",
        "Two features on the left and the other two on the right.\n",
        "\n",
        "Please check how the feature names are also loaded above in the object."
      ]
    },
    {
      "cell_type": "code",
      "metadata": {
        "id": "a62T7GrFkS7u",
        "colab": {
          "base_uri": "https://localhost:8080/",
          "height": 345
        },
        "outputId": "b932fb7d-d585-485f-bd65-f455ac6546bf"
      },
      "source": [
        "plt.figure(figsize=(16, 6))\n",
        "plt.subplot(1, 2, 1)\n",
        "for target, target_name in enumerate(names):\n",
        "    X_plot = X[y == target]\n",
        "    plt.plot(X_plot[:, 0], X_plot[:, 1], linestyle='none', marker='o', label=target_name)\n",
        "plt.xlabel(feature_names[0])\n",
        "plt.ylabel(feature_names[1])\n",
        "plt.axis('equal')\n",
        "plt.legend();\n",
        "\n",
        "plt.subplot(1, 2, 2)\n",
        "for target, target_name in enumerate(names):\n",
        "    X_plot = X[y == target]\n",
        "    plt.plot(X_plot[:, 2], X_plot[:, 3], linestyle='none', marker='o', label=target_name)\n",
        "plt.xlabel(feature_names[2])\n",
        "plt.ylabel(feature_names[3])\n",
        "plt.axis('equal')\n",
        "plt.legend();"
      ],
      "execution_count": null,
      "outputs": [
        {
          "output_type": "display_data",
          "data": {
            "image/png": "[encoded data removed]",
            "text/plain": [
              "<Figure size 1152x432 with 2 Axes>"
            ]
          },
          "metadata": {
            "tags": [],
            "needs_background": "light"
          }
        }
      ]
    },
    {
      "cell_type": "markdown",
      "metadata": {
        "id": "YbtQw5FJkS7v"
      },
      "source": [
        "## Configure the neural network\n",
        "\n",
        "The following function creates a custom model, specifying the input and output sizes (i.e. number of units), the number of nodes (or units) per hidden layer, the number of hidden layers and a name for the model."
      ]
    },
    {
      "cell_type": "code",
      "metadata": {
        "id": "XXgWAM_DkS7v"
      },
      "source": [
        "def create_custom_model(input_dim, output_dim, nodes, num_hidden_layers=1, name='model'):\n",
        "    # Create model\n",
        "    model = Sequential(name=name)\n",
        "    for i in range(num_hidden_layers):\n",
        "        model.add(Dense(nodes, input_dim=input_dim, activation='relu'))\n",
        "    model.add(Dense(output_dim, activation='softmax'))\n",
        "\n",
        "    # Compile model\n",
        "    model.compile(loss='categorical_crossentropy', \n",
        "                  optimizer='adam', \n",
        "                  metrics=['accuracy'])\n",
        "    return model"
      ],
      "execution_count": null,
      "outputs": []
    },
    {
      "cell_type": "markdown",
      "metadata": {
        "id": "PZwKu0dxkS7w"
      },
      "source": [
        "Create several models varying the number of hidden layers, and show their structure:"
      ]
    },
    {
      "cell_type": "code",
      "metadata": {
        "scrolled": true,
        "id": "0Y7miFF0kS7w",
        "colab": {
          "base_uri": "https://localhost:8080/"
        },
        "outputId": "651264e7-9ef1-4062-f8a5-bfd9e9e0128c"
      },
      "source": [
        "models = [create_custom_model(n_features, n_classes, 8, i, 'model_{}'.format(i)) for i in range(1, 4)]\n",
        "\n",
        "for model in models:\n",
        "    model.summary()"
      ],
      "execution_count": null,
      "outputs": [
        {
          "output_type": "stream",
          "text": [
            "Model: \"model_1\"\n",
            "_________________________________________________________________\n",
            "Layer (type)                 Output Shape              Param #   \n",
            "=================================================================\n",
            "dense (Dense)                (None, 8)                 40        \n",
            "_________________________________________________________________\n",
            "dense_1 (Dense)              (None, 3)                 27        \n",
            "=================================================================\n",
            "Total params: 67\n",
            "Trainable params: 67\n",
            "Non-trainable params: 0\n",
            "_________________________________________________________________\n",
            "Model: \"model_2\"\n",
            "_________________________________________________________________\n",
            "Layer (type)                 Output Shape              Param #   \n",
            "=================================================================\n",
            "dense_2 (Dense)              (None, 8)                 40        \n",
            "_________________________________________________________________\n",
            "dense_3 (Dense)              (None, 8)                 72        \n",
            "_________________________________________________________________\n",
            "dense_4 (Dense)              (None, 3)                 27        \n",
            "=================================================================\n",
            "Total params: 139\n",
            "Trainable params: 139\n",
            "Non-trainable params: 0\n",
            "_________________________________________________________________\n",
            "Model: \"model_3\"\n",
            "_________________________________________________________________\n",
            "Layer (type)                 Output Shape              Param #   \n",
            "=================================================================\n",
            "dense_5 (Dense)              (None, 8)                 40        \n",
            "_________________________________________________________________\n",
            "dense_6 (Dense)              (None, 8)                 72        \n",
            "_________________________________________________________________\n",
            "dense_7 (Dense)              (None, 8)                 72        \n",
            "_________________________________________________________________\n",
            "dense_8 (Dense)              (None, 3)                 27        \n",
            "=================================================================\n",
            "Total params: 211\n",
            "Trainable params: 211\n",
            "Non-trainable params: 0\n",
            "_________________________________________________________________\n"
          ],
          "name": "stdout"
        }
      ]
    },
    {
      "cell_type": "markdown",
      "metadata": {
        "id": "rLBI2dVnkS7w"
      },
      "source": [
        "Train all models and use TensorBoard to track the training processes\n",
        "\n",
        "Check the tensorboard results with \n",
        "\n",
        "> tensorboard --logdir logs/train/\n"
      ]
    },
    {
      "cell_type": "code",
      "metadata": {
        "colab": {
          "base_uri": "https://localhost:8080/"
        },
        "id": "idf2fysAUSem",
        "outputId": "d3bbc70f-ffd5-43e8-ad9e-bd5e4ff7e30d"
      },
      "source": [
        "!tensorboard --logdir logs/train"
      ],
      "execution_count": null,
      "outputs": [
        {
          "output_type": "stream",
          "text": [
            "2021-03-24 12:59:20.526652: I tensorflow/stream_executor/platform/default/dso_loader.cc:49] Successfully opened dynamic library libcudart.so.11.0\n",
            "W0324 12:59:21.960519 140409522956032 plugin_event_accumulator.py:322] Found more than one graph event per run, or there was a metagraph containing a graph_def, as well as one or more graph events.  Overwriting the graph with the newest event.\n",
            "W0324 12:59:21.976371 140409522956032 plugin_event_accumulator.py:322] Found more than one graph event per run, or there was a metagraph containing a graph_def, as well as one or more graph events.  Overwriting the graph with the newest event.\n",
            "Serving TensorBoard on localhost; to expose to the network, use a proxy or pass --bind_all\n",
            "TensorBoard 2.4.1 at http://localhost:6006/ (Press CTRL+C to quit)\n"
          ],
          "name": "stdout"
        }
      ]
    },
    {
      "cell_type": "code",
      "metadata": {
        "scrolled": true,
        "id": "ZroSezVQkS7w",
        "colab": {
          "base_uri": "https://localhost:8080/"
        },
        "outputId": "014be767-d546-4270-c030-06f51dcf8a43"
      },
      "source": [
        "## Train all three models\n",
        "history_dict = {}\n",
        "\n",
        "## TensorBoard Callback\n",
        "cb = TensorBoard()\n",
        "\n",
        "## \n",
        "for model in models:    \n",
        "    print('Model name:', model.name)\n",
        "    history_callback = model.fit(X_train, Y_train,\n",
        "                                 batch_size=5,\n",
        "                                 epochs=50,\n",
        "                                 verbose=0,\n",
        "                                 validation_data=(X_test, Y_test),\n",
        "                                 callbacks=[cb])\n",
        "    score = model.evaluate(X_test, Y_test, verbose=0)\n",
        "    print('Test loss:', score[0])\n",
        "    print('Test accuracy:', score[1])\n",
        "    \n",
        "    history_dict[model.name] = [history_callback, model]"
      ],
      "execution_count": null,
      "outputs": [
        {
          "output_type": "stream",
          "text": [
            "Model name: model_1\n",
            "Test loss: 0.1314103752374649\n",
            "Test accuracy: 0.9466666579246521\n",
            "Model name: model_2\n",
            "Test loss: 0.44379109144210815\n",
            "Test accuracy: 0.9200000166893005\n",
            "Model name: model_3\n",
            "Test loss: 0.7830144166946411\n",
            "Test accuracy: 0.9333333373069763\n"
          ],
          "name": "stdout"
        }
      ]
    },
    {
      "cell_type": "markdown",
      "metadata": {
        "id": "B2IQULZTkS7w"
      },
      "source": [
        "## Show results"
      ]
    },
    {
      "cell_type": "code",
      "metadata": {
        "id": "MtF_c5mYkS7w",
        "colab": {
          "base_uri": "https://localhost:8080/",
          "height": 388
        },
        "outputId": "99531741-c641-42bb-f294-d3d59b4c7c0b"
      },
      "source": [
        "## Plot accuracy and loss from training\n",
        "fig, (ax1, ax2) = plt.subplots(2, figsize=(8, 6))\n",
        "\n",
        "for model_name in history_dict:\n",
        "    val_acc = history_dict[model_name][0].history['val_accuracy']\n",
        "    val_loss = history_dict[model_name][0].history['val_loss']\n",
        "    ax1.plot(val_acc, label=model_name)\n",
        "    ax2.plot(val_loss, label=model_name)\n",
        "    \n",
        "ax1.set_ylabel('validation accuracy')\n",
        "ax2.set_ylabel('validation loss')\n",
        "ax2.set_xlabel('epochs')\n",
        "ax1.legend()\n",
        "ax2.legend()\n",
        "plt.show()\n"
      ],
      "execution_count": null,
      "outputs": [
        {
          "output_type": "display_data",
          "data": {
            "image/png": "[encoded data removed]",
            "text/plain": [
              "<Figure size 576x432 with 2 Axes>"
            ]
          },
          "metadata": {
            "tags": [],
            "needs_background": "light"
          }
        }
      ]
    },
    {
      "cell_type": "code",
      "metadata": {
        "id": "nCIbk_F5kS7x"
      },
      "source": [
        ""
      ],
      "execution_count": null,
      "outputs": []
    }
  ]
}