{
  "cells": [
    {
      "cell_type": "markdown",
      "metadata": {
        "id": "0moJkxhKW_tv"
      },
      "source": [
        "![Rhyme](https://rhyme.com/assets/img/logo-dark.png)"
      ]
    },
    {
      "cell_type": "markdown",
      "metadata": {
        "id": "KD-_g5uFW_tz"
      },
      "source": [
        "# Task 1: Introduction\n",
        "\n",
        "Welcome to Basic Image Classification with TensorFlow.\n",
        "\n",
        "This graph describes the problem that we are trying to solve visually. We want to create and train a model that takes an image of a hand written digit as input and predicts the class of that digit, that is, it predicts the digit or it predicts the class of the input image.\n",
        "\n",
        "![Hand Written Digits Classification](https://drive.google.com/uc?id=1Siks4bB9KpI5Uu0XpmYftmpieTEtKJaH)"
      ]
    },
    {
      "cell_type": "markdown",
      "metadata": {
        "id": "iBHuCOdNW_t0"
      },
      "source": [
        "### Import TensorFlow"
      ]
    },
    {
      "cell_type": "code",
      "execution_count": 1,
      "metadata": {
        "id": "yy1LqVNjW_t0",
        "colab": {
          "base_uri": "https://localhost:8080/"
        },
        "outputId": "695ba052-1466-4a05-98a0-5d67e9ca7f20"
      },
      "outputs": [
        {
          "output_type": "stream",
          "name": "stdout",
          "text": [
            "Using TensorFlow version 2.8.0\n"
          ]
        }
      ],
      "source": [
        "import tensorflow as tf\n",
        "\n",
        "tf.compat.v1.logging.set_verbosity(tf.compat.v1.logging.ERROR)\n",
        "print('Using TensorFlow version', tf.__version__)"
      ]
    },
    {
      "cell_type": "markdown",
      "metadata": {
        "id": "u8LuUIWvW_t1"
      },
      "source": [
        "# Task 2: The Dataset\n",
        "### Import MNIST"
      ]
    },
    {
      "cell_type": "code",
      "execution_count": 2,
      "metadata": {
        "id": "kbdu5oMMW_t2",
        "colab": {
          "base_uri": "https://localhost:8080/"
        },
        "outputId": "d9a9dc6c-12e7-4f7e-ee0d-ba2c83eea517"
      },
      "outputs": [
        {
          "output_type": "stream",
          "name": "stdout",
          "text": [
            "Downloading data from https://storage.googleapis.com/tensorflow/tf-keras-datasets/mnist.npz\n",
            "11493376/11490434 [==============================] - 0s 0us/step\n",
            "11501568/11490434 [==============================] - 0s 0us/step\n"
          ]
        }
      ],
      "source": [
        "from tensorflow.keras.datasets import mnist\n",
        "(x_train, y_train), (x_test, y_test) = mnist.load_data()"
      ]
    },
    {
      "cell_type": "markdown",
      "metadata": {
        "id": "2AHyBf3KW_t2"
      },
      "source": [
        "### Shapes of Imported Arrays"
      ]
    },
    {
      "cell_type": "code",
      "execution_count": 3,
      "metadata": {
        "id": "9cZxxzowW_t3",
        "colab": {
          "base_uri": "https://localhost:8080/"
        },
        "outputId": "165cc128-ed5e-4ba0-c30c-6752047b456f"
      },
      "outputs": [
        {
          "output_type": "stream",
          "name": "stdout",
          "text": [
            "x_train shape: (60000, 28, 28)\n",
            "y_train shape: (60000,)\n",
            "x_test shape: (10000, 28, 28)\n",
            "y_test shape: (10000,)\n"
          ]
        }
      ],
      "source": [
        "# Trainset para entrenar la nn, testset para validar el desempeño de la nn\n",
        "print('x_train shape:', x_train.shape)\n",
        "print('y_train shape:', y_train.shape)\n",
        "print('x_test shape:', x_test.shape)\n",
        "print('y_test shape:', y_test.shape)"
      ]
    },
    {
      "cell_type": "markdown",
      "metadata": {
        "id": "RJb63MeoW_t3"
      },
      "source": [
        "### Plot an Image Example"
      ]
    },
    {
      "cell_type": "code",
      "execution_count": 5,
      "metadata": {
        "id": "B_4lO4gIW_t4",
        "colab": {
          "base_uri": "https://localhost:8080/",
          "height": 265
        },
        "outputId": "96046fd7-c323-474f-ecf4-c03ad7f9d362"
      },
      "outputs": [
        {
          "output_type": "display_data",
          "data": {
            "text/plain": [
              "<Figure size 432x288 with 1 Axes>"
            ],
            "image/png": "[encoded data removed]"
          },
          "metadata": {
            "needs_background": "light"
          }
        }
      ],
      "source": [
        "from matplotlib import pyplot as plt\n",
        "%matplotlib inline    \n",
        "# Para asegurarse que las imágenes se desplieguen en el notebook\n",
        "\n",
        "plt.imshow(x_train[0], cmap='binary')\n",
        "plt.show()"
      ]
    },
    {
      "cell_type": "markdown",
      "metadata": {
        "id": "HqIgSvRqW_t4"
      },
      "source": [
        "### Display Labels"
      ]
    },
    {
      "cell_type": "code",
      "execution_count": 6,
      "metadata": {
        "id": "OVAZVyx7W_t5",
        "colab": {
          "base_uri": "https://localhost:8080/"
        },
        "outputId": "1a84a2b8-5163-4b44-fafb-bd02f9191072"
      },
      "outputs": [
        {
          "output_type": "execute_result",
          "data": {
            "text/plain": [
              "5"
            ]
          },
          "metadata": {},
          "execution_count": 6
        }
      ],
      "source": [
        "y_train[0]"
      ]
    },
    {
      "cell_type": "code",
      "execution_count": 7,
      "metadata": {
        "id": "5K_XxC2jW_t5",
        "colab": {
          "base_uri": "https://localhost:8080/"
        },
        "outputId": "8b193a7f-883e-4202-dd60-c9a0565563e0"
      },
      "outputs": [
        {
          "output_type": "stream",
          "name": "stdout",
          "text": [
            "{0, 1, 2, 3, 4, 5, 6, 7, 8, 9}\n"
          ]
        }
      ],
      "source": [
        "print(set(y_train))   # Para ver todos los labels que hay, las classes"
      ]
    },
    {
      "cell_type": "markdown",
      "metadata": {
        "id": "2LovucM5W_t6"
      },
      "source": [
        "# Task 3: One Hot Encoding\n",
        "After this encoding, every label will be converted to a list with 10 elements and the element at index to the corresponding class will be set to 1, rest will be set to 0:\n",
        "\n",
        "| original label | one-hot encoded label |\n",
        "|------|------|\n",
        "| 5 | [0, 0, 0, 0, 0, 1, 0, 0, 0, 0] |\n",
        "| 7 | [0, 0, 0, 0, 0, 0, 0, 1, 0, 0] |\n",
        "| 1 | [0, 1, 0, 0, 0, 0, 0, 0, 0, 0] |\n",
        "\n",
        "### Encoding Labels"
      ]
    },
    {
      "cell_type": "code",
      "execution_count": 8,
      "metadata": {
        "id": "oI1WKLUOW_t7"
      },
      "outputs": [],
      "source": [
        "from tensorflow.keras.utils import to_categorical\n",
        "\n",
        "y_train_encoded = to_categorical(y_train)\n",
        "y_test_encoded = to_categorical(y_test)"
      ]
    },
    {
      "cell_type": "markdown",
      "metadata": {
        "id": "NkK8-MvPW_t7"
      },
      "source": [
        "### Validated Shapes"
      ]
    },
    {
      "cell_type": "code",
      "execution_count": 9,
      "metadata": {
        "id": "zlWyciX2W_t7",
        "colab": {
          "base_uri": "https://localhost:8080/"
        },
        "outputId": "5a8c4f5a-ecff-4b63-b9cc-5600e0296c01"
      },
      "outputs": [
        {
          "output_type": "stream",
          "name": "stdout",
          "text": [
            "y_train_encoded shape: (60000, 10)\n",
            "y_test_encoded shape: (10000, 10)\n"
          ]
        }
      ],
      "source": [
        "print('y_train_encoded shape:', y_train_encoded.shape)\n",
        "print('y_test_encoded shape:', y_test_encoded.shape)"
      ]
    },
    {
      "cell_type": "markdown",
      "metadata": {
        "id": "hR9z6lynW_t7"
      },
      "source": [
        "### Display Encoded Labels"
      ]
    },
    {
      "cell_type": "code",
      "execution_count": 10,
      "metadata": {
        "id": "Mp5B-hRmW_t8",
        "colab": {
          "base_uri": "https://localhost:8080/"
        },
        "outputId": "e002e6a3-66ff-4d4c-8bd4-e647d3015efa"
      },
      "outputs": [
        {
          "output_type": "execute_result",
          "data": {
            "text/plain": [
              "array([0., 0., 0., 0., 0., 1., 0., 0., 0., 0.], dtype=float32)"
            ]
          },
          "metadata": {},
          "execution_count": 10
        }
      ],
      "source": [
        "# Se puede ver como un problema de clasificación, donde cada clase\n",
        "# está representada por un switch y la red trata de predecir cuál\n",
        "# switch está encendido. Si no se usara one-hot encoding entonces\n",
        "# sería un problema de regresión (numerical prediction).\n",
        "\n",
        "y_train_encoded[0]"
      ]
    },
    {
      "cell_type": "markdown",
      "metadata": {
        "id": "dE28bf_5W_t8"
      },
      "source": [
        "# Task 4: Neural Networks\n",
        "\n",
        "### Linear Equations\n",
        "\n",
        "![Single Neuron](https://drive.google.com/uc?id=1HAkeg_TTuopbjjtCBxwvwqyCuiXpXt02)\n",
        "\n",
        "The above graph simply represents the equation:\n",
        "\n",
        "\\begin{equation}\n",
        "y = w1 * x1 + w2 * x2 + w3 * x3 + b\n",
        "\\end{equation}\n",
        "\n",
        "Where the `w1, w2, w3` are called the weights and `b` is an intercept term called bias. The equation can also be *vectorised* like this:\n",
        "\n",
        "\\begin{equation}\n",
        "y = W . X + b\n",
        "\\end{equation}\n",
        "\n",
        "Where `X = [x1, x2, x3]` and `W = [w1, w2, w3].T`. The .T means *transpose*. This is because we want the dot product to give us the result we want i.e. `w1 * x1 + w2 * x2 + w3 * x3`. This gives us the vectorised version of our linear equation.\n",
        "\n",
        "A simple, linear approach to solving hand-written image classification problem - could it work?\n",
        "\n",
        "![Single Neuron with 784 features](https://drive.google.com/uc?id=1sWZi0Z1YCei9K9412gv-3QeviKg7zkm-)\n",
        "\n",
        "### Neural Networks\n",
        "\n",
        "![Neural Network with 2 hidden layers](https://drive.google.com/uc?id=113KfWWwpf3MrIp72k5zoXFhD0JRhWdqp)\n",
        "\n",
        "This model is much more likely to solve the problem as it can learn more complex function mapping for the inputs and outputs in our dataset."
      ]
    },
    {
      "cell_type": "markdown",
      "metadata": {
        "id": "vK4GCcjWW_t9"
      },
      "source": [
        "# Task 5: Preprocessing the Examples\n",
        "\n",
        "### Unrolling N-dimensional Arrays to Vectors"
      ]
    },
    {
      "cell_type": "code",
      "execution_count": 11,
      "metadata": {
        "id": "Jk-EH4Q_W_t9",
        "colab": {
          "base_uri": "https://localhost:8080/"
        },
        "outputId": "19dcab65-c66c-49ed-a406-5ab7e3275eb7"
      },
      "outputs": [
        {
          "output_type": "stream",
          "name": "stdout",
          "text": [
            "x_train_reshaped shape: (60000, 784)\n",
            "x_test_reshaped shape: (10000, 784)\n"
          ]
        }
      ],
      "source": [
        "# En las nn se usa una capa de activación, la cual tiene como objetivo\n",
        "# ayudar a la nn a encontrar patrones no lineales en los datos (le da más\n",
        "# flexibilidad al modelo).\n",
        "# Si no se hace esto, entonces se tendría simplemente una función lineal.\n",
        "\n",
        "import numpy as np\n",
        "\n",
        "# Unrolled version de los datos\n",
        "x_train_reshaped = np.reshape(x_train, (60000, 784))\n",
        "x_test_reshaped = np.reshape(x_test, (10000, 784))\n",
        "\n",
        "print('x_train_reshaped shape:', x_train_reshaped.shape)\n",
        "print('x_test_reshaped shape:', x_test_reshaped.shape)"
      ]
    },
    {
      "cell_type": "markdown",
      "metadata": {
        "id": "5dDC7asaW_t9"
      },
      "source": [
        "### Display Pixel Values"
      ]
    },
    {
      "cell_type": "code",
      "execution_count": 12,
      "metadata": {
        "id": "aI0O2F1MW_t9",
        "colab": {
          "base_uri": "https://localhost:8080/"
        },
        "outputId": "3748cc4e-50fc-43c7-fb01-ecabde0eb95e"
      },
      "outputs": [
        {
          "output_type": "stream",
          "name": "stdout",
          "text": [
            "{0, 1, 2, 3, 9, 11, 14, 16, 18, 23, 24, 25, 26, 27, 30, 35, 36, 39, 43, 45, 46, 49, 55, 56, 64, 66, 70, 78, 80, 81, 82, 90, 93, 94, 107, 108, 114, 119, 126, 127, 130, 132, 133, 135, 136, 139, 148, 150, 154, 156, 160, 166, 170, 171, 172, 175, 182, 183, 186, 187, 190, 195, 198, 201, 205, 207, 212, 213, 219, 221, 225, 226, 229, 238, 240, 241, 242, 244, 247, 249, 250, 251, 252, 253, 255}\n"
          ]
        }
      ],
      "source": [
        "print(set(x_train_reshaped[0]))"
      ]
    },
    {
      "cell_type": "markdown",
      "metadata": {
        "id": "c0i1v6S1W_t9"
      },
      "source": [
        "### Data Normalization"
      ]
    },
    {
      "cell_type": "code",
      "execution_count": 14,
      "metadata": {
        "id": "xNC5vN2lW_t9"
      },
      "outputs": [],
      "source": [
        "# Los cálculos son más eficientes y veloces si se normaliza.\n",
        "x_mean = np.mean(x_train_reshaped)\n",
        "x_std = np.std(x_train_reshaped)\n",
        "\n",
        "epsilon = 1e-10   # Para que no haya problemas al dividir\n",
        "\n",
        "x_train_norm = (x_train_reshaped - x_mean) / (x_std + epsilon)\n",
        "x_test_norm = (x_test_reshaped - x_mean) / (x_std + epsilon)\n",
        "# Se le aplica al testset el mismo preprocesamiento que al trainset,\n",
        "# por eso no se calcula otra mean y std. Si se calculara mean y std en\n",
        "# el testset entonces se le añadiría un bias innecesario debido a \n",
        "# alguna anomalía que podría existir en el testset."
      ]
    },
    {
      "cell_type": "markdown",
      "metadata": {
        "id": "jUsNRPSBW_t9"
      },
      "source": [
        "### Display Normalized Pixel Values"
      ]
    },
    {
      "cell_type": "code",
      "execution_count": 15,
      "metadata": {
        "id": "GKc7JNMYW_t-",
        "colab": {
          "base_uri": "https://localhost:8080/"
        },
        "outputId": "03a0c648-2ff6-4f3a-dada-dbd4037dc7aa"
      },
      "outputs": [
        {
          "output_type": "stream",
          "name": "stdout",
          "text": [
            "{-0.38589016215482896, 1.306921966983251, 1.17964285952926, 1.803310486053816, 1.6887592893452241, 2.8215433456857437, 2.719720059722551, 1.1923707702746593, 1.7396709323268205, 2.057868700961798, 2.3633385588513764, 2.096052433197995, 1.7651267538176187, 2.7960875241949457, 2.7451758812133495, 2.45243393406917, 0.02140298169794222, -0.22042732246464067, 1.2305545025108566, 0.2759611966059242, 2.210603629906587, 2.6560805059955555, 2.6051688630139593, -0.4240738943910262, 0.4668798577869107, 0.1486820891519332, 0.3905123933145161, 1.0905474843114664, -0.09314821501064967, 1.4851127174188385, 2.7579037919587486, 1.5360243604004349, 0.07231462467953861, -0.13133194724684696, 1.294194056237852, 0.03413089244334132, 1.3451056992194483, 2.274243183633583, -0.24588314395543887, 0.772349715676489, 0.75962180493109, 0.7214380726948927, 0.1995937321335296, -0.41134598364562713, 0.5687031437501034, 0.5941589652409017, 0.9378125553666773, 0.9505404661120763, 0.6068868759863008, 0.4159682148053143, -0.042236572029053274, 2.7706317027041476, 2.1342361654341926, 0.12322626766113501, -0.08042030426525057, 0.16140999989733232, 1.8924058612716097, 1.2560103240016547, 2.185147808415789, 0.6196147867316999, 1.943317504253206, -0.11860403650144787, -0.30952269768243434, 1.9942291472348024, -0.2840668761916362, 2.6306246845047574, 2.286971094378982, -0.19497150097384247, -0.39861807290022805, 0.2886891073513233, 1.7523988430722195, 2.3887943803421745, 2.681536327486354, 1.4596568959280403, 2.439706023323771, 2.7833596134495466, 2.490617666305367, -0.10587612575604877, 1.5614801818912332, 1.9051337720170087, 1.6123918248728295, 1.268738234747054, 1.9560454149986053, 2.6433525952501564, 1.026907930584471}\n"
          ]
        }
      ],
      "source": [
        "print(set(x_train_norm[0]))"
      ]
    },
    {
      "cell_type": "markdown",
      "metadata": {
        "id": "FdbOZM-DW_t-"
      },
      "source": [
        "# Task 6: Creating a Model\n",
        "### Creating the Model"
      ]
    },
    {
      "cell_type": "code",
      "execution_count": 16,
      "metadata": {
        "id": "V6EJOGO2W_t-"
      },
      "outputs": [],
      "source": [
        "# Se usan capas densas: todos los outputs de una capa son enviados\n",
        "# a todos los nodos de la siguiente capa.\n",
        "from tensorflow.keras.models import Sequential\n",
        "from tensorflow.keras.layers import Dense\n",
        "\n",
        "# No hay una input layer porque con la clase Sequential entonces la\n",
        "# input layer es básicamente los datos, no se tiene que definir aparte.\n",
        "model = Sequential([\n",
        "      Dense(128, activation='relu', input_shape=(784,)),\n",
        "      Dense(128, activation='relu'),\n",
        "      Dense(10, activation='softmax')   # Output layer\n",
        "                                        # Softmax da la probabilidad de cada clase\n",
        "])\n",
        "\n",
        "# Entre más compleja sea la arquitectura, entonces más complejas serán\n",
        "# las funciones que el modelo puede representar, pero implica más recursos\n",
        "# computacionales."
      ]
    },
    {
      "cell_type": "markdown",
      "metadata": {
        "id": "Cf1Zg66bW_t-"
      },
      "source": [
        "### Activation Functions\n",
        "\n",
        "The first step in the node is the linear sum of the inputs:\n",
        "\\begin{equation}\n",
        "Z = W . X + b\n",
        "\\end{equation}\n",
        "\n",
        "The second step in the node is the activation function output:\n",
        "\n",
        "\\begin{equation}\n",
        "A = f(Z)\n",
        "\\end{equation}\n",
        "\n",
        "Graphical representation of a node where the two operations are performed:\n",
        "\n",
        "![ReLU](https://drive.google.com/uc?id=1sXN84646kt-8lJvqe6_JqVKRaHhCY5iJ)\n",
        "\n",
        "### Compiling the Model"
      ]
    },
    {
      "cell_type": "code",
      "execution_count": 18,
      "metadata": {
        "id": "_G8mM8Y3W_t-",
        "colab": {
          "base_uri": "https://localhost:8080/"
        },
        "outputId": "c40629a0-4e05-426d-b0bf-325c31408e25"
      },
      "outputs": [
        {
          "output_type": "stream",
          "name": "stdout",
          "text": [
            "Model: \"sequential\"\n",
            "_________________________________________________________________\n",
            " Layer (type)                Output Shape              Param #   \n",
            "=================================================================\n",
            " dense (Dense)               (None, 128)               100480    \n",
            "                                                                 \n",
            " dense_1 (Dense)             (None, 128)               16512     \n",
            "                                                                 \n",
            " dense_2 (Dense)             (None, 10)                1290      \n",
            "                                                                 \n",
            "=================================================================\n",
            "Total params: 118,282\n",
            "Trainable params: 118,282\n",
            "Non-trainable params: 0\n",
            "_________________________________________________________________\n"
          ]
        }
      ],
      "source": [
        "# El optimization algorithm busca minimizar la loss function\n",
        "\n",
        "model.compile(\n",
        "    optimizer = 'sgd',\n",
        "    loss = 'categorical_crossentropy', # Diferencia entre el valor obtenido y el valor real\n",
        "    metrics = ['accuracy']\n",
        ")\n",
        "\n",
        "model.summary()"
      ]
    },
    {
      "cell_type": "code",
      "source": [
        "# La cantidad de parámetros en la output layer se puede calcular como:\n",
        "# 128 nodos de la capa dense_1 x 10 nodos de la capa dense_2 = 1280 conecciones\n",
        "# + 10 biases = 1290"
      ],
      "metadata": {
        "id": "D8omhNHAAe_r"
      },
      "execution_count": 19,
      "outputs": []
    },
    {
      "cell_type": "markdown",
      "metadata": {
        "id": "gQqKJJ_CW_t-"
      },
      "source": [
        "# Task 7: Training the Model\n",
        "\n",
        "### Training the Model"
      ]
    },
    {
      "cell_type": "code",
      "execution_count": 20,
      "metadata": {
        "id": "YZbCAWSpW_t-",
        "colab": {
          "base_uri": "https://localhost:8080/"
        },
        "outputId": "0886bffb-676a-4fb3-f835-0974523e6c38"
      },
      "outputs": [
        {
          "output_type": "stream",
          "name": "stdout",
          "text": [
            "Epoch 1/3\n",
            "1875/1875 [==============================] - 6s 3ms/step - loss: 0.3673 - accuracy: 0.8932\n",
            "Epoch 2/3\n",
            "1875/1875 [==============================] - 5s 3ms/step - loss: 0.1804 - accuracy: 0.9474\n",
            "Epoch 3/3\n",
            "1875/1875 [==============================] - 5s 3ms/step - loss: 0.1349 - accuracy: 0.9600\n"
          ]
        },
        {
          "output_type": "execute_result",
          "data": {
            "text/plain": [
              "<keras.callbacks.History at 0x7f21e3d22d10>"
            ]
          },
          "metadata": {},
          "execution_count": 20
        }
      ],
      "source": [
        "model.fit(x_train_norm, y_train_encoded, epochs=3)"
      ]
    },
    {
      "cell_type": "markdown",
      "metadata": {
        "id": "slh61MS6W_t-"
      },
      "source": [
        "### Evaluating the Model"
      ]
    },
    {
      "cell_type": "code",
      "execution_count": 21,
      "metadata": {
        "id": "y-wH0JIUW_t_",
        "colab": {
          "base_uri": "https://localhost:8080/"
        },
        "outputId": "f107e494-88e5-449f-816c-a9985d7f40e1"
      },
      "outputs": [
        {
          "output_type": "stream",
          "name": "stdout",
          "text": [
            "313/313 [==============================] - 1s 2ms/step - loss: 0.1216 - accuracy: 0.9628\n",
            "Test set accuracy: 96.28000259399414\n"
          ]
        }
      ],
      "source": [
        "# Solo evalúa, no hace backward propagation para mejorar el modelo\n",
        "_, accuracy = model.evaluate(x_test_norm, y_test_encoded)\n",
        "print('Test set accuracy:', accuracy*100)"
      ]
    },
    {
      "cell_type": "markdown",
      "metadata": {
        "id": "W8R5r9jzW_t_"
      },
      "source": [
        "# Task 8: Predictions\n",
        "\n",
        "### Predictions on Test Set"
      ]
    },
    {
      "cell_type": "code",
      "execution_count": 22,
      "metadata": {
        "id": "IUUXDxyfW_t_",
        "colab": {
          "base_uri": "https://localhost:8080/"
        },
        "outputId": "a1de056e-0832-493b-f0ed-b834b23219b9"
      },
      "outputs": [
        {
          "output_type": "stream",
          "name": "stdout",
          "text": [
            "Shape of preds: (10000, 10)\n"
          ]
        }
      ],
      "source": [
        "preds = model.predict(x_test_norm)\n",
        "print(\"Shape of preds:\", preds.shape)"
      ]
    },
    {
      "cell_type": "markdown",
      "metadata": {
        "id": "7ExMogy9W_t_"
      },
      "source": [
        "### Plotting the Results"
      ]
    },
    {
      "cell_type": "code",
      "execution_count": 23,
      "metadata": {
        "id": "edyc6p2tW_t_",
        "colab": {
          "base_uri": "https://localhost:8080/",
          "height": 642
        },
        "outputId": "16a74318-2220-45c4-b81d-5f3a7a82b2fb"
      },
      "outputs": [
        {
          "output_type": "display_data",
          "data": {
            "text/plain": [
              "<Figure size 864x864 with 25 Axes>"
            ],
            "image/png": "[encoded data removed]"
          },
          "metadata": {}
        }
      ],
      "source": [
        "plt.figure(figsize=(12,12))\n",
        "\n",
        "start_index = 0\n",
        "\n",
        "for i in range(25):\n",
        "  plt.subplot(5,5,i+1)\n",
        "  plt.grid(False)\n",
        "  plt.xticks([])\n",
        "  plt.yticks([])\n",
        "\n",
        "  # Postprocessing en las predictions\n",
        "  pred = np.argmax(preds[start_index+i])\n",
        "  gt = y_test[start_index+i]\n",
        "\n",
        "  col = 'g'\n",
        "  if pred != gt:\n",
        "    col = 'r'\n",
        "\n",
        "  plt.xlabel('i={}, pred={}, gt={}'.format(start_index+i, pred, gt), color=col)\n",
        "  plt.imshow(x_test[start_index+i], cmap='binary')\n",
        "plt.show()"
      ]
    },
    {
      "cell_type": "code",
      "execution_count": 24,
      "metadata": {
        "id": "dF4y5xd-W_t_",
        "colab": {
          "base_uri": "https://localhost:8080/",
          "height": 265
        },
        "outputId": "fc9e1f1a-60a9-4c30-cae8-2773fd7c7cd8"
      },
      "outputs": [
        {
          "output_type": "display_data",
          "data": {
            "text/plain": [
              "<Figure size 432x288 with 1 Axes>"
            ],
            "image/png": "[encoded data removed]"
          },
          "metadata": {
            "needs_background": "light"
          }
        }
      ],
      "source": [
        "plt.plot(preds[8])\n",
        "plt.show()"
      ]
    }
  ],
  "metadata": {
    "kernelspec": {
      "display_name": "Python 3",
      "language": "python",
      "name": "python3"
    },
    "language_info": {
      "codemirror_mode": {
        "name": "ipython",
        "version": 3
      },
      "file_extension": ".py",
      "mimetype": "text/x-python",
      "name": "python",
      "nbconvert_exporter": "python",
      "pygments_lexer": "ipython3",
      "version": "3.7.3"
    },
    "colab": {
      "name": "Basic_Image_Classification_with_TensorFlow.ipynb",
      "provenance": [],
      "collapsed_sections": []
    }
  },
  "nbformat": 4,
  "nbformat_minor": 0
}